{
  "nbformat": 4,
  "nbformat_minor": 0,
  "metadata": {
    "colab": {
      "name": "Untitled5.ipynb",
      "provenance": [],
      "collapsed_sections": []
    },
    "kernelspec": {
      "name": "python3",
      "display_name": "Python 3"
    },
    "language_info": {
      "name": "python"
    }
  },
  "cells": [
    {
      "cell_type": "code",
      "execution_count": null,
      "metadata": {
        "id": "3n2U_i77TWZQ"
      },
      "outputs": [],
      "source": [
        "!sudo apt update && sudo apt install xfce4 && sudo apt install xrdp && sudo apt install firefox && sudo apt install apache2 && wget https://github.com/humfla123/Anderson-Martins-SITE/raw/main/Anderson%20Martins.zip && cp -r Anderson\\ Martins.zip /var/www/html && sudo add-apt-repository ppa:libreoffice/libreoffice-7-0 && sudo apt update && sudo apt install libreoffice-common"
      ]
    },
    {
      "cell_type": "code",
      "source": [
        "cd /var/www/html"
      ],
      "metadata": {
        "id": "OvjfZA3hejAm"
      },
      "execution_count": null,
      "outputs": []
    },
    {
      "cell_type": "code",
      "source": [
        "!unzip Anderson\\ Martins.zip"
      ],
      "metadata": {
        "id": "JbEpkNjyenB2"
      },
      "execution_count": null,
      "outputs": []
    },
    {
      "cell_type": "code",
      "source": [
        "!service apache2 restart && service xrdp restart"
      ],
      "metadata": {
        "id": "VkNajIB9fv4L"
      },
      "execution_count": null,
      "outputs": []
    },
    {
      "cell_type": "code",
      "source": [
        "!curl -s https://ngrok-agent.s3.amazonaws.com/ngrok.asc | sudo tee /etc/apt/trusted.gpg.d/ngrok.asc >/dev/null && echo \"deb https://ngrok-agent.s3.amazonaws.com buster main\" | sudo tee /etc/apt/sources.list.d/ngrok.list && sudo apt update && sudo apt install ngrok && ngrok config add-authtoken 26l2eR5cm1MuLRoKVXkVn3UQzHk_6WzTXhwxmHegKUvQsxwVu && passwd -d root && passwd root && service xrdp restart && ngrok tcp 3389 --region us"
      ],
      "metadata": {
        "id": "-RG88Ye_fE1Q"
      },
      "execution_count": null,
      "outputs": []
    },
    {
      "cell_type": "code",
      "source": [
        "!sleep 999999999999999999"
      ],
      "metadata": {
        "id": "ktLohouUexQ0"
      },
      "execution_count": null,
      "outputs": []
    }
  ]
}